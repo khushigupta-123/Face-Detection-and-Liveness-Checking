{
 "cells": [
  {
   "cell_type": "markdown",
   "id": "78001681",
   "metadata": {},
   "source": [
    "# face image ko black and white krke deepface model m bhejna then model m jab to_predict krke lagate hai usme return final tensors krke kuch function hota hai usse tum image ka vector nikal skti ho and uspe fr cosin distance/ similarity lagana 2 images par cosin distance se similarity pata chalegi check karna kitna similar hoga"
   ]
  },
  {
   "cell_type": "code",
   "execution_count": 5,
   "id": "0a1d9628",
   "metadata": {},
   "outputs": [
    {
     "name": "stdout",
     "output_type": "stream",
     "text": [
      "Cosine Similarity: 0.9822708877822249\n"
     ]
    }
   ],
   "source": [
    "import cv2\n",
    "import numpy as np\n",
    "from deepface import DeepFace\n",
    "from scipy.spatial.distance import cosine\n",
    "\n",
    "# Step 1: Convert the image to grayscale (black and white)\n",
    "def convert_to_gray(image_path):\n",
    "    image = cv2.imread(image_path)\n",
    "    gray_image = cv2.cvtColor(image, cv2.COLOR_BGR2GRAY)\n",
    "    return gray_image\n",
    "\n",
    "# Step 2: Extract feature vector using DeepFace\n",
    "def extract_vector(image_path):\n",
    "    # DeepFace model returns a dictionary, we are interested in the 'embedding' key\n",
    "    result = DeepFace.represent(image_path, model_name=\"VGG-Face\", enforce_detection=False)\n",
    "    return result[0]['embedding']\n",
    "\n",
    "# Step 3: Calculate cosine similarity\n",
    "def calculate_cosine_similarity(vector1, vector2):\n",
    "    return 1 - cosine(vector1, vector2)\n",
    "\n",
    "# Example usage:\n",
    "image_path1 = r\"image.jpg\"\n",
    "image_path2 = r\"image3.png\"\n",
    "\n",
    "# Convert to grayscale (optional depending on model's requirements)\n",
    "gray_image1 = convert_to_gray(image_path1)\n",
    "gray_image2 = convert_to_gray(image_path2)\n",
    "\n",
    "# Get vectors for the images\n",
    "vector1 = extract_vector(image_path1)\n",
    "vector2 = extract_vector(image_path2)\n",
    "\n",
    "# Compute cosine similarity\n",
    "similarity = calculate_cosine_similarity(vector1, vector2)\n",
    "\n",
    "print(f\"Cosine Similarity: {similarity}\")\n"
   ]
  },
  {
   "cell_type": "code",
   "execution_count": 7,
   "id": "106f105b",
   "metadata": {},
   "outputs": [
    {
     "name": "stdout",
     "output_type": "stream",
     "text": [
      "Are they the same person? True\n"
     ]
    }
   ],
   "source": [
    "from deepface import DeepFace\n",
    "\n",
    "result = DeepFace.verify(\"image.jpg\", \"image3.png\")\n",
    "print(\"Are they the same person?\", result[\"verified\"])\n"
   ]
  },
  {
   "cell_type": "code",
   "execution_count": 10,
   "id": "f258ca92",
   "metadata": {},
   "outputs": [
    {
     "name": "stdout",
     "output_type": "stream",
     "text": [
      "Cosine Similarity between reference_image.jpg and image1.jpg: 0.09229724249816718\n",
      "Cosine Similarity between reference_image.jpg and image2.jpg: 0.03091154659062867\n",
      "Cosine Similarity between reference_image.jpg and image3.jpg: 0.06147230571997497\n",
      "Cosine Similarity between reference_image.jpg and image4.png: 0.9822708877822249\n",
      "Cosine Similarity between reference_image.jpg and image5.jpg: 0.018125366465061243\n"
     ]
    }
   ],
   "source": [
    "import cv2\n",
    "import numpy as np\n",
    "from deepface import DeepFace\n",
    "from scipy.spatial.distance import cosine\n",
    "\n",
    "# Step 1: Convert the image to grayscale (black and white)\n",
    "def convert_to_gray(image_path):\n",
    "    image = cv2.imread(image_path)\n",
    "    gray_image = cv2.cvtColor(image, cv2.COLOR_BGR2GRAY)\n",
    "    return gray_image\n",
    "\n",
    "# Step 2: Extract feature vector using DeepFace\n",
    "def extract_vector(image_path):\n",
    "    result = DeepFace.represent(image_path, model_name=\"VGG-Face\", enforce_detection=False)\n",
    "    return result[0]['embedding']\n",
    "\n",
    "# Step 3: Calculate cosine similarity\n",
    "def calculate_cosine_similarity(vector1, vector2):\n",
    "    return 1 - cosine(vector1, vector2)\n",
    "\n",
    "# Compare one image with multiple images\n",
    "def compare_images(reference_image_path, image_paths):\n",
    "    # Extract vector for the reference image\n",
    "    reference_vector = extract_vector(reference_image_path)\n",
    "    \n",
    "    similarity_scores = {}\n",
    "    \n",
    "    for image_path in image_paths:\n",
    "        # Extract vector for each image\n",
    "        vector = extract_vector(image_path)\n",
    "        \n",
    "        # Calculate cosine similarity\n",
    "        similarity = calculate_cosine_similarity(reference_vector, vector)\n",
    "        similarity_scores[image_path] = similarity\n",
    "        \n",
    "    return similarity_scores\n",
    "\n",
    "# Example usage:\n",
    "reference_image_path = \"reference_image.jpg\"\n",
    "image_paths = [\"image1.jpg\", \"image2.jpg\", \"image3.jpg\", \"image4.png\", \"image5.jpg\"]\n",
    "\n",
    "# Compare reference image with the 5 images\n",
    "similarity_scores = compare_images(reference_image_path, image_paths)\n",
    "\n",
    "# Print the similarity scores\n",
    "for image_path, similarity in similarity_scores.items():\n",
    "    print(f\"Cosine Similarity between {reference_image_path} and {image_path}: {similarity}\")"
   ]
  },
  {
   "cell_type": "code",
   "execution_count": null,
   "id": "b1129562",
   "metadata": {},
   "outputs": [],
   "source": []
  }
 ],
 "metadata": {
  "kernelspec": {
   "display_name": "Python 3",
   "language": "python",
   "name": "python3"
  },
  "language_info": {
   "codemirror_mode": {
    "name": "ipython",
    "version": 3
   },
   "file_extension": ".py",
   "mimetype": "text/x-python",
   "name": "python",
   "nbconvert_exporter": "python",
   "pygments_lexer": "ipython3",
   "version": "3.8.8"
  }
 },
 "nbformat": 4,
 "nbformat_minor": 5
}
